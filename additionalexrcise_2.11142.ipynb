{
 "cells": [
  {
   "cell_type": "markdown",
   "metadata": {},
   "source": [
    "# problem statement 1"
   ]
  },
  {
   "cell_type": "code",
   "execution_count": 3,
   "metadata": {},
   "outputs": [
    {
     "name": "stdout",
     "output_type": "stream",
     "text": [
      "acadgildacadgildacadgildacadgildacadgild\n"
     ]
    }
   ],
   "source": [
    "#define a lambda function: echo_name     \n",
    "\n",
    "echo_name = lambda name1,echo_int : name1*echo_int\n",
    "result = echo_name('acadgild',5)\n",
    "print(result)"
   ]
  },
  {
   "cell_type": "markdown",
   "metadata": {},
   "source": [
    "# problem statement 2"
   ]
  },
  {
   "cell_type": "code",
   "execution_count": 1,
   "metadata": {},
   "outputs": [
    {
     "name": "stdout",
     "output_type": "stream",
     "text": [
      "['e', 'o', 'e', 'o', 'A', 'a', 'i']\n"
     ]
    }
   ],
   "source": [
    "string = \"Welcome to AcadGild\"\n",
    "vowels = \"aeiouAEIOU\"\n",
    "finalVowel = []\n",
    "\n",
    "# Return True if arg is in vowels; otherwise, return False\n",
    "isVowel = lambda arg: arg in vowels\n",
    "\n",
    "def vowelFilter(sentence):\n",
    "    for letter in string:\n",
    "        if isVowel(letter):  # Call the lambda to test if letter is a vowel\n",
    "            finalVowel.append(letter)\n",
    "    return finalVowel\n",
    "\n",
    "print (vowelFilter(string))"
   ]
  },
  {
   "cell_type": "markdown",
   "metadata": {},
   "source": [
    " # problem statement3"
   ]
  },
  {
   "cell_type": "code",
   "execution_count": 100,
   "metadata": {},
   "outputs": [
    {
     "name": "stdout",
     "output_type": "stream",
     "text": [
      "[36.94444444444444, 38.333333333333336, 38.88888888888889, 95.0, 40.0]\n"
     ]
    }
   ],
   "source": [
    "#An example of map method for Fahrenheit to Celsius\n",
    " \n",
    " #An example of map method for Fahrenheit to Celsius\n",
    " \n",
    " \n",
    " \n",
    "def calCelsius(F):\n",
    " \n",
    " \n",
    " \n",
    "    C = ((5.0/9.0)*(F - 32))\n",
    " \n",
    "    return C\n",
    " \n",
    " \n",
    " \n",
    "fah_temp = [98.5, 101,102,203,104]\n",
    " \n",
    "conv_temp = (map(calCelsius, fah_temp))\n",
    " \n",
    " \n",
    " \n",
    "#Convert the returned map object to list\n",
    " \n",
    "Cel_lst = list(conv_temp)\n",
    " \n",
    "print(Cel_lst)\n",
    " \n",
    " "
   ]
  },
  {
   "cell_type": "markdown",
   "metadata": {},
   "source": [
    "# problemstatement4"
   ]
  },
  {
   "cell_type": "code",
   "execution_count": 79,
   "metadata": {},
   "outputs": [
    {
     "name": "stdout",
     "output_type": "stream",
     "text": [
      "WelcometoacadGild\n"
     ]
    }
   ],
   "source": [
    "s = '123@Welc34ometo12@ac#adGild'\n",
    "newstring=''.join(x for x in s if x.isalpha())\n",
    "print(newstring)\n",
    "    \n",
    " \n"
   ]
  },
  {
   "cell_type": "markdown",
   "metadata": {},
   "source": [
    "# problemstatement 5"
   ]
  },
  {
   "cell_type": "code",
   "execution_count": 75,
   "metadata": {},
   "outputs": [
    {
     "name": "stdout",
     "output_type": "stream",
     "text": [
      "feburuary\n"
     ]
    }
   ],
   "source": [
    "def find_longest_word(words_list):  \n",
    "    word_len = []  \n",
    "    for n in words_list:  \n",
    "        word_len.append((len(n), n))  \n",
    "    word_len.sort()  \n",
    "    return word_len[-1][1]  \n",
    "\n",
    "print(find_longest_word([\"january \", \"feburuary\", \"march\",\"april\",\"may\"]))"
   ]
  },
  {
   "cell_type": "code",
   "execution_count": null,
   "metadata": {},
   "outputs": [],
   "source": []
  },
  {
   "cell_type": "code",
   "execution_count": null,
   "metadata": {},
   "outputs": [],
   "source": []
  }
 ],
 "metadata": {
  "kernelspec": {
   "display_name": "Python 3",
   "language": "python",
   "name": "python3"
  },
  "language_info": {
   "codemirror_mode": {
    "name": "ipython",
    "version": 3
   },
   "file_extension": ".py",
   "mimetype": "text/x-python",
   "name": "python",
   "nbconvert_exporter": "python",
   "pygments_lexer": "ipython3",
   "version": "3.7.1"
  }
 },
 "nbformat": 4,
 "nbformat_minor": 2
}
